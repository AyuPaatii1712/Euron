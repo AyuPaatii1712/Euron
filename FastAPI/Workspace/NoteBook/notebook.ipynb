{
 "cells": [
  {
   "cell_type": "code",
   "execution_count": 1,
   "id": "762000d3",
   "metadata": {},
   "outputs": [],
   "source": [
    "from pydantic import BaseModel"
   ]
  },
  {
   "cell_type": "code",
   "execution_count": 13,
   "id": "9b77f646",
   "metadata": {},
   "outputs": [
    {
     "data": {
      "text/plain": [
       "{'a': 4, 'b': 3, 'o': 'add'}"
      ]
     },
     "execution_count": 13,
     "metadata": {},
     "output_type": "execute_result"
    }
   ],
   "source": [
    "class A(BaseModel):\n",
    "    a: int\n",
    "    b: int\n",
    "    o: str\n",
    "    \n",
    "a = A(**{\"a\":4, \"b\": 3, \"o\":\"add\"})\n",
    "a.__dict__"
   ]
  },
  {
   "cell_type": "code",
   "execution_count": 8,
   "id": "89217d77",
   "metadata": {},
   "outputs": [
    {
     "data": {
      "text/plain": [
       "{'a': 4, 'b': 3}"
      ]
     },
     "execution_count": 8,
     "metadata": {},
     "output_type": "execute_result"
    }
   ],
   "source": [
    "class B(BaseModel):\n",
    "    a: int\n",
    "    b: int\n",
    "    \n",
    "b = B(**a.model_dump())\n",
    "b.model_dump()"
   ]
  },
  {
   "cell_type": "code",
   "execution_count": 9,
   "id": "4a3e4e2f",
   "metadata": {},
   "outputs": [],
   "source": [
    "class CalculationModel(BaseModel):\n",
    "    a: int\n",
    "    b: int\n",
    "\n",
    "def add_numbers(model: CalculationModel):\n",
    "    def add(a, b):\n",
    "        return a + b\n",
    "    \n",
    "    result = add(model.a, model.b)\n",
    "    return {\"result\": result}"
   ]
  },
  {
   "cell_type": "code",
   "execution_count": 11,
   "id": "94617a3c",
   "metadata": {},
   "outputs": [
    {
     "data": {
      "text/plain": [
       "{'result': 6}"
      ]
     },
     "execution_count": 11,
     "metadata": {},
     "output_type": "execute_result"
    }
   ],
   "source": [
    "add_numbers(model=CalculationModel(**{\"a\":2, \"b\":4}))"
   ]
  },
  {
   "cell_type": "code",
   "execution_count": null,
   "id": "63adfc69",
   "metadata": {},
   "outputs": [],
   "source": []
  },
  {
   "cell_type": "code",
   "execution_count": null,
   "id": "9ef2a732",
   "metadata": {},
   "outputs": [],
   "source": []
  }
 ],
 "metadata": {
  "kernelspec": {
   "display_name": "Euron_venv_ipynb (3.11.9)",
   "language": "python",
   "name": "python3"
  },
  "language_info": {
   "codemirror_mode": {
    "name": "ipython",
    "version": 3
   },
   "file_extension": ".py",
   "mimetype": "text/x-python",
   "name": "python",
   "nbconvert_exporter": "python",
   "pygments_lexer": "ipython3",
   "version": "3.11.9"
  }
 },
 "nbformat": 4,
 "nbformat_minor": 5
}
